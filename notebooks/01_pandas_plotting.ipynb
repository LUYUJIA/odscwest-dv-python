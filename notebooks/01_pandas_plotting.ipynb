{
 "cells": [
  {
   "cell_type": "markdown",
   "metadata": {},
   "source": [
    "<img src=\"https://snipboard.io/hzEuw1.jpg\">\n",
    "\n",
    "# Data Visualization:  From Jupyter to Dashboards\n",
    "### Session 1: Plotting with Pandas\n",
    "Author:  David Yerrington\n",
    "\n",
    "## Learning Objectives\n",
    "\n",
    "- Become familiar with Jupyter Lab plotting convensions\n",
    "- Describe the integration between matplotlib and Pandas\n",
    "- Understand the concept of \"figure\" and \"axes.\"\n",
    "- Implement standard plots using Pandas\n",
    "\n",
    "### Prerequisite Knowledge\n",
    "- Basic Pandas \n",
    "  - Difference between Series vs Dataframe\n",
    "  - Bitmasks, query function, selecting data\n",
    "  - Aggregations\n",
    "\n",
    "## Environment Setup\n",
    "\n",
    "<span style=\"color: red\">If you are reading this and you haven't setup your local Python environment, please review [the setup guide](../environment.md) ASAP!</span>"
   ]
  },
  {
   "cell_type": "markdown",
   "metadata": {},
   "source": [
    "### Imports"
   ]
  },
  {
   "cell_type": "code",
   "execution_count": 3,
   "metadata": {},
   "outputs": [],
   "source": [
    "import pandas as pd, numpy as np, matplotlib.pyplot as plt"
   ]
  },
  {
   "cell_type": "markdown",
   "metadata": {},
   "source": [
    "### Load a Dataset\n",
    "<img src=\"https://storage.googleapis.com/kaggle-datasets-images/2619/4359/e3ef5846d64dc9a747afd82273456328/dataset-cover.jpg\" class=\"Header_CoverImg-sc-1431b7d ibFJYv\">\n",
    "\n",
    "This is a Pokemon dataset and it's from [Kaggle](https://www.kaggle.com/terminus7/pokemon-challenge).  \n",
    "\n",
    "> Pokemon are creatures that fight each other, in a turn-based RPG game."
   ]
  },
  {
   "cell_type": "code",
   "execution_count": null,
   "metadata": {},
   "outputs": [],
   "source": []
  },
  {
   "cell_type": "markdown",
   "metadata": {},
   "source": [
    "Inspect, then view a few records of the dataset. "
   ]
  },
  {
   "cell_type": "code",
   "execution_count": null,
   "metadata": {},
   "outputs": [],
   "source": []
  },
  {
   "cell_type": "code",
   "execution_count": null,
   "metadata": {},
   "outputs": [],
   "source": []
  },
  {
   "cell_type": "code",
   "execution_count": null,
   "metadata": {},
   "outputs": [],
   "source": []
  },
  {
   "cell_type": "markdown",
   "metadata": {},
   "source": [
    "### Enable Inline Plotting\n",
    "\n",
    "Plots can be displayed many ways.  Saved as separate files.  Opened with a display application independant of Juptyer. Or within Jupyter itself.\n",
    "\n",
    "> Read more about Jupyter [magic commands](https://ipython.readthedocs.io/en/stable/interactive/magics.html)."
   ]
  },
  {
   "cell_type": "code",
   "execution_count": 51,
   "metadata": {},
   "outputs": [],
   "source": [
    "# Turn on inline plotting\n"
   ]
  },
  {
   "cell_type": "markdown",
   "metadata": {},
   "source": [
    "### Quick Pandas Review:  Axis, Series, and DataFrame\n",
    "\n",
    "![](https://snipboard.io/8i3yIz.jpg)"
   ]
  },
  {
   "cell_type": "markdown",
   "metadata": {},
   "source": [
    "### Plotting with Pandas .plot\n",
    "\n",
    "Generally, both series and DataFrame objects in Pandas offer the opportunity to plot.\n",
    "\n",
    ">  We are just going to go a inch deep into this topic but to get a full sense of what plots are possible with Pandas, see the [user guide](https://pandas.pydata.org/pandas-docs/stable/user_guide/visualization.html)."
   ]
  },
  {
   "cell_type": "markdown",
   "metadata": {},
   "source": [
    "### A line plot from a series"
   ]
  },
  {
   "cell_type": "code",
   "execution_count": null,
   "metadata": {},
   "outputs": [],
   "source": []
  },
  {
   "cell_type": "markdown",
   "metadata": {},
   "source": [
    "### A scatter plot from 2 dimension columns"
   ]
  },
  {
   "cell_type": "code",
   "execution_count": null,
   "metadata": {},
   "outputs": [],
   "source": []
  },
  {
   "cell_type": "markdown",
   "metadata": {},
   "source": [
    "### A histogram plot from a series"
   ]
  },
  {
   "cell_type": "code",
   "execution_count": null,
   "metadata": {},
   "outputs": [],
   "source": []
  },
  {
   "cell_type": "markdown",
   "metadata": {},
   "source": [
    "### A barh plot from a group DataFrame aggregation"
   ]
  },
  {
   "cell_type": "code",
   "execution_count": null,
   "metadata": {},
   "outputs": [],
   "source": []
  },
  {
   "cell_type": "markdown",
   "metadata": {},
   "source": [
    "### Box plot from masked filter "
   ]
  },
  {
   "cell_type": "code",
   "execution_count": null,
   "metadata": {},
   "outputs": [],
   "source": []
  },
  {
   "cell_type": "markdown",
   "metadata": {},
   "source": [
    "### Plot Aethetics"
   ]
  },
  {
   "cell_type": "code",
   "execution_count": null,
   "metadata": {},
   "outputs": [],
   "source": []
  },
  {
   "cell_type": "markdown",
   "metadata": {},
   "source": [
    "### Controlling Aethetics\n",
    "\n",
    "[Matplotlib Colormpas Reference](https://matplotlib.org/examples/color/colormaps_reference.html)"
   ]
  },
  {
   "cell_type": "markdown",
   "metadata": {},
   "source": [
    "### With Slack: Try to plot plot something from this dataset and post a screenshot (thread).\n",
    "\n",
    "We will check out the thread at the end of the 1st session.  Also share any code!"
   ]
  },
  {
   "cell_type": "markdown",
   "metadata": {},
   "source": [
    "### Matplotlib: Figure vs Axes\n",
    "\n",
    "**Figure** and **Axes** are two of the most fundamental constructs within Matplotlib.  \n",
    "\n",
    "#### Figure\n",
    "\n",
    "Figure is like a canvas.  The figure defines the space in which objects can be placed within.  Objects can be annotations and text objects, lines, scatters, and many other types of visual elements.\n",
    "\n",
    "\n",
    "#### Axes\n",
    "\n",
    "Axes is a visual object such as a set of points, line vectors, and generally \"generate\" visual objects that can be placed on a figure.\n",
    "\n",
    "- Histograms\n",
    "- Lines\n",
    "- Horizontal or vertical lines\n",
    "- x or y ticks"
   ]
  },
  {
   "cell_type": "code",
   "execution_count": null,
   "metadata": {},
   "outputs": [],
   "source": []
  },
  {
   "cell_type": "markdown",
   "metadata": {},
   "source": [
    "## Matplotlib vs Pandas\n",
    "\n",
    "Matplotlib:  Line plot"
   ]
  },
  {
   "cell_type": "code",
   "execution_count": null,
   "metadata": {},
   "outputs": [],
   "source": []
  },
  {
   "cell_type": "markdown",
   "metadata": {},
   "source": [
    "Pandas:  Line Plot"
   ]
  },
  {
   "cell_type": "code",
   "execution_count": null,
   "metadata": {},
   "outputs": [],
   "source": []
  },
  {
   "cell_type": "markdown",
   "metadata": {},
   "source": [
    "Matplotlib:  Scatter"
   ]
  },
  {
   "cell_type": "code",
   "execution_count": null,
   "metadata": {},
   "outputs": [],
   "source": []
  },
  {
   "cell_type": "markdown",
   "metadata": {},
   "source": [
    "Pandas: Scatter"
   ]
  },
  {
   "cell_type": "code",
   "execution_count": null,
   "metadata": {},
   "outputs": [],
   "source": []
  },
  {
   "cell_type": "markdown",
   "metadata": {},
   "source": [
    "#### Figure vs Axes vs Plt Object\n",
    "\n",
    "A Matplotlib figure is a canvas that can contain one or many visual axes elements.  It's possible to use both with `plt.` object because both are extended from `plt.`."
   ]
  },
  {
   "cell_type": "code",
   "execution_count": null,
   "metadata": {},
   "outputs": [],
   "source": []
  },
  {
   "cell_type": "markdown",
   "metadata": {},
   "source": [
    "### Time Permitting:  Subplots with Matplotlib\n",
    "\n",
    "Almost everyone asks about subplots with Matplotlib and while we may not fully engage on this topic, I wanted to give you this example just to show that it's actually not that bad.\n",
    "\n",
    "**What's different with a single plot vs multiple plots?**\n",
    " - `ax` (the axes) are now an array that is the same size and shape of visual subplot matrix.\n",
    " - Each offset within `ax` refers to a subplot within the figure matrix.\n",
    "\n",
    "**What's the same?**\n",
    "- `fig` still refers to the entire canvas / plot image\n",
    "\n",
    "> The size of the subplot matrix is determined by `nrows` and `ncols`.  If you passed `nrows = 5` and `ncols = 3`, ax would be a 5x3 matrix.  `ax` would have 5 rows and 3 columns."
   ]
  },
  {
   "cell_type": "code",
   "execution_count": null,
   "metadata": {},
   "outputs": [],
   "source": []
  },
  {
   "cell_type": "markdown",
   "metadata": {},
   "source": [
    "The same thing but with matplotlib plots"
   ]
  },
  {
   "cell_type": "code",
   "execution_count": null,
   "metadata": {},
   "outputs": [],
   "source": []
  },
  {
   "cell_type": "markdown",
   "metadata": {},
   "source": [
    "## Summary\n",
    "\n",
    "We will take this poll first\n",
    "`/poll \"What is the hardest point to understand in this session?\" \"Matplotlib\" \"Plotting with Pandas\" \"Nothing!\" anonymous`\n",
    "\n",
    "- Plotting with Pandas is actually an abstract way of plotting with Matplotlib through a single function `.plot()`\n",
    "- Matplotlib `figure` is like a canvas that defines the space that visual objects can be placed.\n",
    "- Matplotlib `axes` are visual objects such as lines, scatter points, and histograms.\n"
   ]
  }
 ],
 "metadata": {
  "kernelspec": {
   "display_name": "Python 3",
   "language": "python",
   "name": "python3"
  },
  "language_info": {
   "codemirror_mode": {
    "name": "ipython",
    "version": 3
   },
   "file_extension": ".py",
   "mimetype": "text/x-python",
   "name": "python",
   "nbconvert_exporter": "python",
   "pygments_lexer": "ipython3",
   "version": "3.8.5"
  }
 },
 "nbformat": 4,
 "nbformat_minor": 4
}
